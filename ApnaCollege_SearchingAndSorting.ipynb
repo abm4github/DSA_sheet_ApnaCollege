{
  "nbformat": 4,
  "nbformat_minor": 0,
  "metadata": {
    "colab": {
      "provenance": [],
      "authorship_tag": "ABX9TyO106Kur6i07SVCmF7sLwk4",
      "include_colab_link": true
    },
    "kernelspec": {
      "name": "python3",
      "display_name": "Python 3"
    },
    "language_info": {
      "name": "python"
    }
  },
  "cells": [
    {
      "cell_type": "markdown",
      "metadata": {
        "id": "view-in-github",
        "colab_type": "text"
      },
      "source": [
        "<a href=\"https://colab.research.google.com/github/abm4github/DSA_sheet_ApnaCollege/blob/main/ApnaCollege_SearchingAndSorting.ipynb\" target=\"_parent\"><img src=\"https://colab.research.google.com/assets/colab-badge.svg\" alt=\"Open In Colab\"/></a>"
      ]
    },
    {
      "cell_type": "markdown",
      "source": [
        "# Searching and Sorting"
      ],
      "metadata": {
        "id": "YSl1Ats8tj9T"
      }
    },
    {
      "cell_type": "code",
      "execution_count": 2,
      "metadata": {
        "colab": {
          "base_uri": "https://localhost:8080/"
        },
        "id": "pread7V1tRT6",
        "outputId": "fcddc6f3-c924-4265-ae14-e11499dbb34f"
      },
      "outputs": [
        {
          "output_type": "execute_result",
          "data": {
            "text/plain": [
              "True"
            ]
          },
          "metadata": {},
          "execution_count": 2
        }
      ],
      "source": [
        "#Permutations in array\n",
        "\n",
        "def isPossible(a, b, n, k):\n",
        "    a.sort()\n",
        "    b.sort()\n",
        "    for i in range(n):\n",
        "        if a[i] + b[n-1-i] < k:\n",
        "            return False\n",
        "    return True\n",
        "\n",
        "a = [1,2,3]\n",
        "b = [2,3,1]\n",
        "n = 3\n",
        "k = 4\n",
        "isPossible(a, b, n, k)"
      ]
    },
    {
      "cell_type": "code",
      "source": [
        "# This one is miscellaneous, not relevant to current topic\n",
        "# Minimum steps required\n",
        "# output is the number of steps required\n",
        "\n",
        "def minSteps(str):\n",
        "    n = len(str)\n",
        "    if str == []:\n",
        "        return 0\n",
        "    now = str[0]\n",
        "    shift = 0\n",
        "    totalShift = 0\n",
        "    for i in range(len(str)):\n",
        "        if str[i] != now:\n",
        "            shift += 1\n",
        "            now = str[i]\n",
        "            if shift == 2:\n",
        "                shift = 0\n",
        "                totalShift += 1\n",
        "    if shift == 1:\n",
        "        return totalShift + 2\n",
        "    return totalShift+1\n",
        "\n",
        "str = \"bababa\"\n",
        "minSteps(str)"
      ],
      "metadata": {
        "colab": {
          "base_uri": "https://localhost:8080/"
        },
        "id": "8_YvnYGhoDdD",
        "outputId": "b636dd4f-04ef-486c-864c-e4f5fcec60a5"
      },
      "execution_count": 3,
      "outputs": [
        {
          "output_type": "execute_result",
          "data": {
            "text/plain": [
              "4"
            ]
          },
          "metadata": {},
          "execution_count": 3
        }
      ]
    },
    {
      "cell_type": "code",
      "source": [
        "# Counting Sort\n",
        "# learn Counting Sort\n",
        "\n",
        "def countSort(arr):\n",
        "    d = {}\n",
        "    str = \"\" \n",
        "    for i in arr:\n",
        "        if i not in d.keys():\n",
        "            d[i] = 0\n",
        "        d[i] += 1\n",
        "    for i in sorted(d.keys()):\n",
        "        temp = i * d[i]\n",
        "        str += temp\n",
        "    return str\n",
        "\n",
        "arr = \"geeksforgeeks\"\n",
        "countSort(arr)"
      ],
      "metadata": {
        "colab": {
          "base_uri": "https://localhost:8080/",
          "height": 36
        },
        "id": "cRReql33NUJl",
        "outputId": "369be036-0ff1-448e-b0bc-75d8015727c8"
      },
      "execution_count": 4,
      "outputs": [
        {
          "output_type": "execute_result",
          "data": {
            "text/plain": [
              "'eeeefggkkorss'"
            ],
            "application/vnd.google.colaboratory.intrinsic+json": {
              "type": "string"
            }
          },
          "metadata": {},
          "execution_count": 4
        }
      ]
    }
  ]
}