{
  "nbformat": 4,
  "nbformat_minor": 0,
  "metadata": {
    "colab": {
      "provenance": [],
      "authorship_tag": "ABX9TyOBgRmv+Y2VyexEsWNOa/Xn",
      "include_colab_link": true
    },
    "kernelspec": {
      "name": "python3",
      "display_name": "Python 3"
    },
    "language_info": {
      "name": "python"
    }
  },
  "cells": [
    {
      "cell_type": "markdown",
      "metadata": {
        "id": "view-in-github",
        "colab_type": "text"
      },
      "source": [
        "<a href=\"https://colab.research.google.com/github/abm4github/DSA_sheet_ApnaCollege/blob/main/ApnaCollege_SearchingAndSorting.ipynb\" target=\"_parent\"><img src=\"https://colab.research.google.com/assets/colab-badge.svg\" alt=\"Open In Colab\"/></a>"
      ]
    },
    {
      "cell_type": "markdown",
      "source": [
        "# Searching and Sorting"
      ],
      "metadata": {
        "id": "YSl1Ats8tj9T"
      }
    },
    {
      "cell_type": "code",
      "execution_count": 2,
      "metadata": {
        "colab": {
          "base_uri": "https://localhost:8080/"
        },
        "id": "pread7V1tRT6",
        "outputId": "fcddc6f3-c924-4265-ae14-e11499dbb34f"
      },
      "outputs": [
        {
          "output_type": "execute_result",
          "data": {
            "text/plain": [
              "True"
            ]
          },
          "metadata": {},
          "execution_count": 2
        }
      ],
      "source": [
        "#Permutations in array\n",
        "\n",
        "def isPossible(a, b, n, k):\n",
        "    a.sort()\n",
        "    b.sort()\n",
        "    for i in range(n):\n",
        "        if a[i] + b[n-1-i] < k:\n",
        "            return False\n",
        "    return True\n",
        "\n",
        "a = [1,2,3]\n",
        "b = [2,3,1]\n",
        "n = 3\n",
        "k = 4\n",
        "isPossible(a, b, n, k)"
      ]
    },
    {
      "cell_type": "code",
      "source": [
        "# This one is miscellaneous, not relevant to current topic\n",
        "# Minimum steps required\n",
        "# output is the number of steps required\n",
        "\n",
        "def minSteps(str):\n",
        "    n = len(str)\n",
        "    if str == []:\n",
        "        return 0\n",
        "    now = str[0]\n",
        "    shift = 0\n",
        "    totalShift = 0\n",
        "    for i in range(len(str)):\n",
        "        if str[i] != now:\n",
        "            shift += 1\n",
        "            now = str[i]\n",
        "            if shift == 2:\n",
        "                shift = 0\n",
        "                totalShift += 1\n",
        "    if shift == 1:\n",
        "        return totalShift + 2\n",
        "    return totalShift+1\n",
        "\n",
        "str = \"bababa\"\n",
        "minSteps(str)"
      ],
      "metadata": {
        "colab": {
          "base_uri": "https://localhost:8080/"
        },
        "id": "8_YvnYGhoDdD",
        "outputId": "b636dd4f-04ef-486c-864c-e4f5fcec60a5"
      },
      "execution_count": 3,
      "outputs": [
        {
          "output_type": "execute_result",
          "data": {
            "text/plain": [
              "4"
            ]
          },
          "metadata": {},
          "execution_count": 3
        }
      ]
    },
    {
      "cell_type": "code",
      "source": [
        "# Counting Sort\n",
        "# learn Counting Sort\n",
        "\n",
        "def countSort(arr):\n",
        "    d = {}\n",
        "    str = \"\" \n",
        "    for i in arr:\n",
        "        if i not in d.keys():\n",
        "            d[i] = 0\n",
        "        d[i] += 1\n",
        "    for i in sorted(d.keys()):\n",
        "        temp = i * d[i]\n",
        "        str += temp\n",
        "    return str\n",
        "\n",
        "arr = \"geeksforgeeks\"\n",
        "countSort(arr)"
      ],
      "metadata": {
        "colab": {
          "base_uri": "https://localhost:8080/",
          "height": 36
        },
        "id": "cRReql33NUJl",
        "outputId": "369be036-0ff1-448e-b0bc-75d8015727c8"
      },
      "execution_count": 4,
      "outputs": [
        {
          "output_type": "execute_result",
          "data": {
            "text/plain": [
              "'eeeefggkkorss'"
            ],
            "application/vnd.google.colaboratory.intrinsic+json": {
              "type": "string"
            }
          },
          "metadata": {},
          "execution_count": 4
        }
      ]
    },
    {
      "cell_type": "code",
      "source": [
        "# Product array puzzle\n",
        "\n",
        "def productExceptSelf(nums, n):\n",
        "    prod = 1\n",
        "    P = []\n",
        "    zeros = 0\n",
        "    for i in nums:\n",
        "        if i != 0 and zeros < 2:\n",
        "            prod *= i\n",
        "        else:\n",
        "            zeros +=1\n",
        "            if zeros > 1:\n",
        "                for i in range(n):\n",
        "                    P.append(0)\n",
        "                return P\n",
        "\n",
        "    if zeros == 1:\n",
        "        for i in nums:\n",
        "            if i != 0:\n",
        "                P.append(0)\n",
        "            else:\n",
        "                P.append(prod)\n",
        "        return P            \n",
        "    \n",
        "    else:\n",
        "        for i in nums:\n",
        "            P.append(int(prod/i))\n",
        "        return P\n",
        "\n",
        "n, nums = 2, [1,0]\n",
        "productExceptSelf(nums, n)"
      ],
      "metadata": {
        "colab": {
          "base_uri": "https://localhost:8080/"
        },
        "id": "bMiB2eRLkDWn",
        "outputId": "e92624e1-5ada-4b1b-866f-fcb014e01a0d"
      },
      "execution_count": 6,
      "outputs": [
        {
          "output_type": "execute_result",
          "data": {
            "text/plain": [
              "[0, 1]"
            ]
          },
          "metadata": {},
          "execution_count": 6
        }
      ]
    }
  ]
}