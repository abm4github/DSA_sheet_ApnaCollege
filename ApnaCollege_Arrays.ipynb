{
  "nbformat": 4,
  "nbformat_minor": 0,
  "metadata": {
    "colab": {
      "provenance": [],
      "authorship_tag": "ABX9TyO6tqDLTWMnTL/6Or5c38WO",
      "include_colab_link": true
    },
    "kernelspec": {
      "name": "python3",
      "display_name": "Python 3"
    },
    "language_info": {
      "name": "python"
    }
  },
  "cells": [
    {
      "cell_type": "markdown",
      "metadata": {
        "id": "view-in-github",
        "colab_type": "text"
      },
      "source": [
        "<a href=\"https://colab.research.google.com/github/abm4github/DSA_sheet_ApnaCollege/blob/main/ApnaCollege_Arrays.ipynb\" target=\"_parent\"><img src=\"https://colab.research.google.com/assets/colab-badge.svg\" alt=\"Open In Colab\"/></a>"
      ]
    },
    {
      "cell_type": "markdown",
      "source": [
        "# Arrays"
      ],
      "metadata": {
        "id": "wcNX3hfUBDdD"
      }
    },
    {
      "cell_type": "code",
      "source": [
        "#sum of min and max in a list\n",
        "\n",
        "l = [11,1-3,2,4,5,-8,19]\n",
        "maxi, mini = l[0],l[0] \n",
        "for i in l:\n",
        "  if i < mini:\n",
        "    mini = i\n",
        "  elif i > maxi:\n",
        "    maxi = i\n",
        "print(maxi-mini)\n"
      ],
      "metadata": {
        "colab": {
          "base_uri": "https://localhost:8080/"
        },
        "id": "AkeG5AwcABmm",
        "outputId": "4677619e-3f59-441c-8b6d-637de9ccee37"
      },
      "execution_count": 13,
      "outputs": [
        {
          "output_type": "stream",
          "name": "stdout",
          "text": [
            "27\n"
          ]
        }
      ]
    },
    {
      "cell_type": "code",
      "execution_count": 11,
      "metadata": {
        "colab": {
          "base_uri": "https://localhost:8080/"
        },
        "id": "1M56ETW5HuLp",
        "outputId": "7cef3914-2f6d-4ff7-bd6c-a51e60dbd5a1"
      },
      "outputs": [
        {
          "output_type": "stream",
          "name": "stdout",
          "text": [
            "skeeG\n"
          ]
        }
      ],
      "source": [
        "#reverse the string\n",
        "\n",
        "s = \"Geeks\"\n",
        "new_s = \"\"\n",
        "for i in range(len(s)-1,-1,-1):\n",
        "  new_s = new_s + s[i]\n",
        "print(new_s)"
      ]
    },
    {
      "cell_type": "code",
      "source": [
        "# maximum contiguous sub array\n",
        "\n",
        "nums = [-2,-1]\n",
        "# nums = [-2,1,-3,4,-1,2,1,-5,4]\n",
        "def maxSubArray(nums):\n",
        "  n = len(nums)\n",
        "  if n < 2:\n",
        "    return sum(nums)\n",
        "  finalSum = 0\n",
        "  tempSum = 0\n",
        "  prevSum = 0\n",
        "  negative_only = True\n",
        "  for i in nums:\n",
        "    prevSum = tempSum\n",
        "    tempSum += i\n",
        "    if i <= 0:\n",
        "      if prevSum > finalSum:\n",
        "        finalSum = prevSum\n",
        "    else:\n",
        "      negative_only = False\n",
        "    if tempSum < 0:\n",
        "      tempSum = 0\n",
        "  if negative_only == True:\n",
        "    return max(nums)\n",
        "  else:\n",
        "    return max(tempSum, finalSum)\n",
        "\n",
        "maxSubArray(nums)"
      ],
      "metadata": {
        "colab": {
          "base_uri": "https://localhost:8080/"
        },
        "id": "qQbYKlzp-W97",
        "outputId": "2cb72a8e-6c3f-4af6-f0ed-58647b4804a4"
      },
      "execution_count": 52,
      "outputs": [
        {
          "output_type": "execute_result",
          "data": {
            "text/plain": [
              "-1"
            ]
          },
          "metadata": {},
          "execution_count": 52
        }
      ]
    }
  ]
}